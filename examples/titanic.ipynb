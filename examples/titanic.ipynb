{
 "cells": [
  {
   "attachments": {},
   "cell_type": "markdown",
   "metadata": {},
   "source": [
    "# Titanic classification task"
   ]
  },
  {
   "cell_type": "code",
   "execution_count": 87,
   "metadata": {},
   "outputs": [
    {
     "name": "stderr",
     "output_type": "stream",
     "text": [
      "\u001b[32m\u001b[1m  Activating\u001b[22m\u001b[39m project at `d:\\projects_julia\\jul-project\\DecisionTrees\\examples`\n"
     ]
    },
    {
     "data": {
      "text/plain": [
       "Plots.PyPlotBackend()"
      ]
     },
     "metadata": {},
     "output_type": "display_data"
    }
   ],
   "source": [
    "using Pkg\n",
    "Pkg.activate(\".\")\n",
    "\n",
    "using Revise\n",
    "using DecisionTrees\n",
    "using ProgressMeter\n",
    "using Statistics\n",
    "using DataFrames\n",
    "using CSV\n",
    "using Plots\n",
    "pyplot()"
   ]
  },
  {
   "attachments": {},
   "cell_type": "markdown",
   "metadata": {},
   "source": [
    "## Data loading and preprocessing"
   ]
  },
  {
   "attachments": {},
   "cell_type": "markdown",
   "metadata": {},
   "source": [
    "Load training data from CSV file to matrix."
   ]
  },
  {
   "cell_type": "code",
   "execution_count": 2,
   "metadata": {},
   "outputs": [
    {
     "data": {
      "text/plain": [
       "891×12 Matrix{Any}:\n",
       "   1  0  3  …  missing           \"S\"\n",
       "   2  1  1     \"C85\"   \"C\"\n",
       "   3  1  3     missing           \"S\"\n",
       "   4  1  1     \"C123\"  \"S\"\n",
       "   5  0  3     missing           \"S\"\n",
       "   6  0  3  …  missing           \"Q\"\n",
       "   7  0  1     \"E46\"   \"S\"\n",
       "   8  0  3     missing           \"S\"\n",
       "   9  1  3     missing           \"S\"\n",
       "  10  1  2     missing           \"C\"\n",
       "   ⋮        ⋱  ⋮                 \n",
       " 883  0  3     missing           \"S\"\n",
       " 884  0  2     missing           \"S\"\n",
       " 885  0  3     missing           \"S\"\n",
       " 886  0  3  …  missing           \"Q\"\n",
       " 887  0  2     missing           \"S\"\n",
       " 888  1  1     \"B42\"   \"S\"\n",
       " 889  0  3     missing           \"S\"\n",
       " 890  1  1     \"C148\"  \"C\"\n",
       " 891  0  3  …  missing           \"Q\""
      ]
     },
     "metadata": {},
     "output_type": "display_data"
    }
   ],
   "source": [
    "train_path = \"../assets/train.csv\"\n",
    "data = csv_to_matrix(train_path)"
   ]
  },
  {
   "attachments": {},
   "cell_type": "markdown",
   "metadata": {},
   "source": [
    "Select columns from data matrix corresponding to \n",
    "`Passenger class`, `Name`, `Sex`, `Age`, `Number of siblings / spouses`, \n",
    "`Number of parents / children`, `Fare`, `Cabin`, `Embarked` and using \n",
    "function `reformat_data` change their type, set missing values, \n",
    "producing data matrix `X`."
   ]
  },
  {
   "cell_type": "code",
   "execution_count": 3,
   "metadata": {},
   "outputs": [
    {
     "data": {
      "text/plain": [
       "891×9 Matrix{Any}:\n",
       " \"3\"  …  22  1  0   7.25    \"missing\"  \"S\"\n",
       " \"1\"     38  1  0  71.2833  \"C85\"      \"C\"\n",
       " \"3\"     26  0  0   7.925   \"missing\"  \"S\"\n",
       " \"1\"     35  1  0  53.1     \"C123\"     \"S\"\n",
       " \"3\"     35  0  0   8.05    \"missing\"  \"S\"\n",
       " \"3\"  …  -1  0  0   8.4583  \"missing\"  \"Q\"\n",
       " \"1\"     54  0  0  51.8625  \"E46\"      \"S\"\n",
       " \"3\"      2  3  1  21.075   \"missing\"  \"S\"\n",
       " \"3\"     27  0  2  11.1333  \"missing\"  \"S\"\n",
       " \"2\"     14  1  0  30.0708  \"missing\"  \"C\"\n",
       " ⋮    ⋱         ⋮                      \n",
       " \"3\"     22  0  0  10.5167  \"missing\"  \"S\"\n",
       " \"2\"     28  0  0  10.5     \"missing\"  \"S\"\n",
       " \"3\"     25  0  0   7.05    \"missing\"  \"S\"\n",
       " \"3\"  …  39  0  5  29.125   \"missing\"  \"Q\"\n",
       " \"2\"     27  0  0  13.0     \"missing\"  \"S\"\n",
       " \"1\"     19  0  0  30.0     \"B42\"      \"S\"\n",
       " \"3\"     -1  1  2  23.45    \"missing\"  \"S\"\n",
       " \"1\"     26  0  0  30.0     \"C148\"     \"C\"\n",
       " \"3\"  …  32  0  0   7.75    \"missing\"  \"Q\""
      ]
     },
     "metadata": {},
     "output_type": "display_data"
    }
   ],
   "source": [
    "data_X = data[:, [3, 4, 5, 6, 7, 8, 10, 11, 12]]\n",
    "X = reformat_data(\n",
    "    data_X, \n",
    "    [String, String, String, Int, Int, Int, Float32, String, String],\n",
    "    [\"missing\", \"missing\", \"missing\", -1, -1, -1, -1.0, \"missing\", \"missing\"]\n",
    ")"
   ]
  },
  {
   "attachments": {},
   "cell_type": "markdown",
   "metadata": {},
   "source": [
    "Select `Survived` column, reformat it, and save it to label vector `Y`."
   ]
  },
  {
   "cell_type": "code",
   "execution_count": 4,
   "metadata": {},
   "outputs": [
    {
     "data": {
      "text/plain": [
       "891-element Vector{Any}:\n",
       " 0\n",
       " 1\n",
       " 1\n",
       " 1\n",
       " 0\n",
       " 0\n",
       " 0\n",
       " 0\n",
       " 1\n",
       " 1\n",
       " ⋮\n",
       " 0\n",
       " 0\n",
       " 0\n",
       " 0\n",
       " 0\n",
       " 1\n",
       " 0\n",
       " 1\n",
       " 0"
      ]
     },
     "metadata": {},
     "output_type": "display_data"
    }
   ],
   "source": [
    "data_Y = data[:, [2]]\n",
    "Y = vec(reformat_data(data_Y, [Int], [-1]))"
   ]
  },
  {
   "attachments": {},
   "cell_type": "markdown",
   "metadata": {},
   "source": [
    "Do the same with testing dataset:"
   ]
  },
  {
   "cell_type": "code",
   "execution_count": 81,
   "metadata": {},
   "outputs": [
    {
     "data": {
      "text/plain": [
       "418×9 Matrix{Any}:\n",
       " \"3\"  …  34  0  0    7.8292  \"missing\"  \"Q\"\n",
       " \"3\"     47  1  0    7.0     \"missing\"  \"S\"\n",
       " \"2\"     62  0  0    9.6875  \"missing\"  \"Q\"\n",
       " \"3\"     27  0  0    8.6625  \"missing\"  \"S\"\n",
       " \"3\"     22  1  1   12.2875  \"missing\"  \"S\"\n",
       " \"3\"  …  14  0  0    9.225   \"missing\"  \"S\"\n",
       " \"3\"     30  0  0    7.6292  \"missing\"  \"Q\"\n",
       " \"2\"     26  1  1   29.0     \"missing\"  \"S\"\n",
       " \"3\"     18  0  0    7.2292  \"missing\"  \"C\"\n",
       " \"3\"     21  2  0   24.15    \"missing\"  \"S\"\n",
       " ⋮    ⋱         ⋮                       \n",
       " \"3\"      3  1  1   13.775   \"missing\"  \"S\"\n",
       " \"3\"  …  -1  0  0    7.75    \"missing\"  \"Q\"\n",
       " \"1\"     37  1  0   90.0     \"C78\"      \"Q\"\n",
       " \"3\"     28  0  0    7.775   \"missing\"  \"S\"\n",
       " \"3\"     -1  0  0    8.05    \"missing\"  \"S\"\n",
       " \"1\"     39  0  0  108.9     \"C105\"     \"C\"\n",
       " \"3\"  …  38  0  0    7.25    \"missing\"  \"S\"\n",
       " \"3\"     -1  0  0    8.05    \"missing\"  \"S\"\n",
       " \"3\"     -1  1  1   22.3583  \"missing\"  \"C\""
      ]
     },
     "metadata": {},
     "output_type": "display_data"
    }
   ],
   "source": [
    "test_path = \"../assets/test.csv\"\n",
    "data = csv_to_matrix(test_path)\n",
    "data_X = data[:, [3, 4, 5, 6, 7, 8, 10, 11, 12] .- 1]\n",
    "X_TEST = reformat_data(\n",
    "    data_X, \n",
    "    [String, String, String, Int, Int, Int, Float32, String, String],\n",
    "    [\"missing\", \"missing\", \"missing\", -1, -1, -1, -1.0, \"missing\", \"missing\"]\n",
    ")"
   ]
  },
  {
   "attachments": {},
   "cell_type": "markdown",
   "metadata": {},
   "source": [
    "## Decision tree\n",
    "\n",
    "#### Search for optimal hyperparameters\n",
    "\n",
    "Optimal hyperparameters `depth` and `attribute_count` are found by grid search.\n",
    "All possible values for `attribute_count` are $\\{1, \\dots, 9\\}$.\n",
    "The upper bound on `depth` can be found by searching for minimal depth \n",
    "which sets training error to 0.0:"
   ]
  },
  {
   "cell_type": "code",
   "execution_count": 16,
   "metadata": {},
   "outputs": [
    {
     "name": "stdout",
     "output_type": "stream",
     "text": [
      "Upper depth bound: 21\n"
     ]
    }
   ],
   "source": [
    "d = 0\n",
    "train_error = 1.0\n",
    "while train_error > 0.0\n",
    "    dt = DecisionTree()\n",
    "    learn!(dt, X, Y; depth=d, attribute_count=9)\n",
    "    Y_ = evaluate(dt, X)\n",
    "    train_error = mean(Y .!= Y_)\n",
    "    d += 1\n",
    "end\n",
    "println(\"Upper depth bound: $(d-1)\")"
   ]
  },
  {
   "attachments": {},
   "cell_type": "markdown",
   "metadata": {},
   "source": [
    "Therefore the possible `depth` values are $\\{0, \\dots, 21\\}$.\n",
    "\n",
    "Now, it is finally possible to conduct grid search with cross-validation:\n",
    "\n",
    "*Warning: Runtime around 55 minutes!*"
   ]
  },
  {
   "cell_type": "code",
   "execution_count": 65,
   "metadata": {},
   "outputs": [],
   "source": [
    "N = 25\n",
    "depths = 1:21\n",
    "attribute_counts = 1:9\n",
    "errors = zeros(21, 9)\n",
    "\n",
    "for n in 1:N\n",
    "    X_shf, Y_shf = shuffle_data(X, Y)\n",
    "    X_train, Y_train, X_test, Y_test = split_data(X_shf, Y_shf)\n",
    "    for d in depths\n",
    "        for ac in attribute_counts\n",
    "            dt = DecisionTree()\n",
    "            learn!(dt, X_train, Y_train; depth=d, attribute_count=ac)\n",
    "            Y_test_ = evaluate(dt, X_test)\n",
    "            errors[d, ac] += mean(Y_test .!= Y_test_)\n",
    "        end\n",
    "    end\n",
    "end\n",
    "errors = errors ./ N;"
   ]
  },
  {
   "attachments": {},
   "cell_type": "markdown",
   "metadata": {},
   "source": [
    "Resulting testing errors for each parameter pair can be seen below:"
   ]
  },
  {
   "cell_type": "code",
   "execution_count": 66,
   "metadata": {},
   "outputs": [
    {
     "data": {
      "image/png": "[encoded data removed]",
      "image/svg+xml": "<?xml version=\"1.0\" encoding=\"utf-8\" standalone=\"no\"?>\n<!DOCTYPE svg PUBLIC \"-//W3C//DTD SVG 1.1//EN\"\n  \"http://www.w3.org/Graphics/SVG/1.1/DTD/svg11.dtd\">\n<svg xmlns:xlink=\"http://www.w3.org/1999/xlink\" width=\"432pt\" height=\"288pt\" viewBox=\"0 0 432 288\" xmlns=\"http://www.w3.org/2000/svg\" version=\"1.1\">\n <metadata>\n  <rdf:RDF xmlns:dc=\"http://purl.org/dc/elements/1.1/\" xmlns:cc=\"http://creativecommons.org/ns#\" xmlns:rdf=\"http://www.w3.org/1999/02/22-rdf-syntax-ns#\">\n   <cc:Work>\n    <dc:type rdf:resource=\"http://purl.org/dc/dcmitype/StillImage\"/>\n    <dc:date>2023-01-02T14:38:39.828135</dc:date>\n    <dc:format>image/svg+xml</dc:format>\n    <dc:creator>\n     <cc:Agent>\n      <dc:title>Matplotlib v3.5.3, https://matplotlib.org/</dc:title>\n     </cc:Agent>\n    </dc:creator>\n   </cc:Work>\n  </rdf:RDF>\n </metadata>\n <defs>\n  <style type=\"text/css\">*{stroke-linejoin: round; stroke-linecap: butt}</style>\n </defs>\n <g id=\"figure_1\">\n  <g id=\"patch_1\">\n   <path d=\"M 0 288 \nL 432 288 \nL 432 0 \nL 0 0 \nz\n\" style=\"fill: #ffffff\"/>\n  </g>\n  <g id=\"axes_1\">\n   <g id=\"patch_2\">\n    <path d=\"M 17.39834 273.025354 \nL 351.752596 273.025354 \nL 351.752596 2.834646 \nL 17.39834 2.834646 \nz\n\" style=\"fill: #ffffff\"/>\n   </g>\n   <g id=\"matplotlib.axis_1\">\n    <g id=\"xtick_1\">\n     <g id=\"line2d_1\">\n      <path d=\"M 73.124049 273.025354 \nL 73.124049 2.834646 \n\" clip-path=\"url(#p8ded18c827)\" style=\"fill: none; stroke: #000000; stroke-opacity: 0.1; stroke-width: 0.5; stroke-linecap: square\"/>\n     </g>\n     <g id=\"line2d_2\">\n      <defs>\n       <path id=\"m0f0ddb5f58\" d=\"M 0 0 \nL 0 -2.5 \n\" style=\"stroke: #000000; stroke-width: 0.5\"/>\n      </defs>\n      <g>\n       <use xlink:href=\"#m0f0ddb5f58\" x=\"73.124049\" y=\"273.025354\" style=\"stroke: #000000; stroke-width: 0.5\"/>\n      </g>\n     </g>\n     <g id=\"text_1\">\n      <!-- $2$ -->\n      <g transform=\"translate(70.564049 282.604104)scale(0.08 -0.08)\">\n       <defs>\n        <path id=\"DejaVuSans-32\" d=\"M 1228 531 \nL 3431 531 \nL 3431 0 \nL 469 0 \nL 469 531 \nQ 828 903 1448 1529 \nQ 2069 2156 2228 2338 \nQ 2531 2678 2651 2914 \nQ 2772 3150 2772 3378 \nQ 2772 3750 2511 3984 \nQ 2250 4219 1831 4219 \nQ 1534 4219 1204 4116 \nQ 875 4013 500 3803 \nL 500 4441 \nQ 881 4594 1212 4672 \nQ 1544 4750 1819 4750 \nQ 2544 4750 2975 4387 \nQ 3406 4025 3406 3419 \nQ 3406 3131 3298 2873 \nQ 3191 2616 2906 2266 \nQ 2828 2175 2409 1742 \nQ 1991 1309 1228 531 \nz\n\" transform=\"scale(0.015625)\"/>\n       </defs>\n       <use xlink:href=\"#DejaVuSans-32\" transform=\"translate(0 0.78125)\"/>\n      </g>\n     </g>\n    </g>\n    <g id=\"xtick_2\">\n     <g id=\"line2d_3\">\n      <path d=\"M 147.424995 273.025354 \nL 147.424995 2.834646 \n\" clip-path=\"url(#p8ded18c827)\" style=\"fill: none; stroke: #000000; stroke-opacity: 0.1; stroke-width: 0.5; stroke-linecap: square\"/>\n     </g>\n     <g id=\"line2d_4\">\n      <g>\n       <use xlink:href=\"#m0f0ddb5f58\" x=\"147.424995\" y=\"273.025354\" style=\"stroke: #000000; stroke-width: 0.5\"/>\n      </g>\n     </g>\n     <g id=\"text_2\">\n      <!-- $4$ -->\n      <g transform=\"translate(144.864995 282.604104)scale(0.08 -0.08)\">\n       <defs>\n        <path id=\"DejaVuSans-34\" d=\"M 2419 4116 \nL 825 1625 \nL 2419 1625 \nL 2419 4116 \nz\nM 2253 4666 \nL 3047 4666 \nL 3047 1625 \nL 3713 1625 \nL 3713 1100 \nL 3047 1100 \nL 3047 0 \nL 2419 0 \nL 2419 1100 \nL 313 1100 \nL 313 1709 \nL 2253 4666 \nz\n\" transform=\"scale(0.015625)\"/>\n       </defs>\n       <use xlink:href=\"#DejaVuSans-34\" transform=\"translate(0 0.09375)\"/>\n      </g>\n     </g>\n    </g>\n    <g id=\"xtick_3\">\n     <g id=\"line2d_5\">\n      <path d=\"M 221.725941 273.025354 \nL 221.725941 2.834646 \n\" clip-path=\"url(#p8ded18c827)\" style=\"fill: none; stroke: #000000; stroke-opacity: 0.1; stroke-width: 0.5; stroke-linecap: square\"/>\n     </g>\n     <g id=\"line2d_6\">\n      <g>\n       <use xlink:href=\"#m0f0ddb5f58\" x=\"221.725941\" y=\"273.025354\" style=\"stroke: #000000; stroke-width: 0.5\"/>\n      </g>\n     </g>\n     <g id=\"text_3\">\n      <!-- $6$ -->\n      <g transform=\"translate(219.165941 282.604104)scale(0.08 -0.08)\">\n       <defs>\n        <path id=\"DejaVuSans-36\" d=\"M 2113 2584 \nQ 1688 2584 1439 2293 \nQ 1191 2003 1191 1497 \nQ 1191 994 1439 701 \nQ 1688 409 2113 409 \nQ 2538 409 2786 701 \nQ 3034 994 3034 1497 \nQ 3034 2003 2786 2293 \nQ 2538 2584 2113 2584 \nz\nM 3366 4563 \nL 3366 3988 \nQ 3128 4100 2886 4159 \nQ 2644 4219 2406 4219 \nQ 1781 4219 1451 3797 \nQ 1122 3375 1075 2522 \nQ 1259 2794 1537 2939 \nQ 1816 3084 2150 3084 \nQ 2853 3084 3261 2657 \nQ 3669 2231 3669 1497 \nQ 3669 778 3244 343 \nQ 2819 -91 2113 -91 \nQ 1303 -91 875 529 \nQ 447 1150 447 2328 \nQ 447 3434 972 4092 \nQ 1497 4750 2381 4750 \nQ 2619 4750 2861 4703 \nQ 3103 4656 3366 4563 \nz\n\" transform=\"scale(0.015625)\"/>\n       </defs>\n       <use xlink:href=\"#DejaVuSans-36\" transform=\"translate(0 0.78125)\"/>\n      </g>\n     </g>\n    </g>\n    <g id=\"xtick_4\">\n     <g id=\"line2d_7\">\n      <path d=\"M 296.026887 273.025354 \nL 296.026887 2.834646 \n\" clip-path=\"url(#p8ded18c827)\" style=\"fill: none; stroke: #000000; stroke-opacity: 0.1; stroke-width: 0.5; stroke-linecap: square\"/>\n     </g>\n     <g id=\"line2d_8\">\n      <g>\n       <use xlink:href=\"#m0f0ddb5f58\" x=\"296.026887\" y=\"273.025354\" style=\"stroke: #000000; stroke-width: 0.5\"/>\n      </g>\n     </g>\n     <g id=\"text_4\">\n      <!-- $8$ -->\n      <g transform=\"translate(293.466887 282.604104)scale(0.08 -0.08)\">\n       <defs>\n        <path id=\"DejaVuSans-38\" d=\"M 2034 2216 \nQ 1584 2216 1326 1975 \nQ 1069 1734 1069 1313 \nQ 1069 891 1326 650 \nQ 1584 409 2034 409 \nQ 2484 409 2743 651 \nQ 3003 894 3003 1313 \nQ 3003 1734 2745 1975 \nQ 2488 2216 2034 2216 \nz\nM 1403 2484 \nQ 997 2584 770 2862 \nQ 544 3141 544 3541 \nQ 544 4100 942 4425 \nQ 1341 4750 2034 4750 \nQ 2731 4750 3128 4425 \nQ 3525 4100 3525 3541 \nQ 3525 3141 3298 2862 \nQ 3072 2584 2669 2484 \nQ 3125 2378 3379 2068 \nQ 3634 1759 3634 1313 \nQ 3634 634 3220 271 \nQ 2806 -91 2034 -91 \nQ 1263 -91 848 271 \nQ 434 634 434 1313 \nQ 434 1759 690 2068 \nQ 947 2378 1403 2484 \nz\nM 1172 3481 \nQ 1172 3119 1398 2916 \nQ 1625 2713 2034 2713 \nQ 2441 2713 2670 2916 \nQ 2900 3119 2900 3481 \nQ 2900 3844 2670 4047 \nQ 2441 4250 2034 4250 \nQ 1625 4250 1398 4047 \nQ 1172 3844 1172 3481 \nz\n\" transform=\"scale(0.015625)\"/>\n       </defs>\n       <use xlink:href=\"#DejaVuSans-38\" transform=\"translate(0 0.78125)\"/>\n      </g>\n     </g>\n    </g>\n   </g>\n   <g id=\"matplotlib.axis_2\">\n    <g id=\"ytick_1\">\n     <g id=\"line2d_9\">\n      <path d=\"M 17.39834 215.127345 \nL 351.752596 215.127345 \n\" clip-path=\"url(#p8ded18c827)\" style=\"fill: none; stroke: #000000; stroke-opacity: 0.1; stroke-width: 0.5; stroke-linecap: square\"/>\n     </g>\n     <g id=\"line2d_10\">\n      <defs>\n       <path id=\"m1af55a1f73\" d=\"M 0 0 \nL 2.5 0 \n\" style=\"stroke: #000000; stroke-width: 0.5\"/>\n      </defs>\n      <g>\n       <use xlink:href=\"#m1af55a1f73\" x=\"17.39834\" y=\"215.127345\" style=\"stroke: #000000; stroke-width: 0.5\"/>\n      </g>\n     </g>\n     <g id=\"text_5\">\n      <!-- $5$ -->\n      <g transform=\"translate(8.77834 218.16672)scale(0.08 -0.08)\">\n       <defs>\n        <path id=\"DejaVuSans-35\" d=\"M 691 4666 \nL 3169 4666 \nL 3169 4134 \nL 1269 4134 \nL 1269 2991 \nQ 1406 3038 1543 3061 \nQ 1681 3084 1819 3084 \nQ 2600 3084 3056 2656 \nQ 3513 2228 3513 1497 \nQ 3513 744 3044 326 \nQ 2575 -91 1722 -91 \nQ 1428 -91 1123 -41 \nQ 819 9 494 109 \nL 494 744 \nQ 775 591 1075 516 \nQ 1375 441 1709 441 \nQ 2250 441 2565 725 \nQ 2881 1009 2881 1497 \nQ 2881 1984 2565 2268 \nQ 2250 2553 1709 2553 \nQ 1456 2553 1204 2497 \nQ 953 2441 691 2322 \nL 691 4666 \nz\n\" transform=\"scale(0.015625)\"/>\n       </defs>\n       <use xlink:href=\"#DejaVuSans-35\" transform=\"translate(0 0.09375)\"/>\n      </g>\n     </g>\n    </g>\n    <g id=\"ytick_2\">\n     <g id=\"line2d_11\">\n      <path d=\"M 17.39834 150.796224 \nL 351.752596 150.796224 \n\" clip-path=\"url(#p8ded18c827)\" style=\"fill: none; stroke: #000000; stroke-opacity: 0.1; stroke-width: 0.5; stroke-linecap: square\"/>\n     </g>\n     <g id=\"line2d_12\">\n      <g>\n       <use xlink:href=\"#m1af55a1f73\" x=\"17.39834\" y=\"150.796224\" style=\"stroke: #000000; stroke-width: 0.5\"/>\n      </g>\n     </g>\n     <g id=\"text_6\">\n      <!-- $10$ -->\n      <g transform=\"translate(3.65834 153.835599)scale(0.08 -0.08)\">\n       <defs>\n        <path id=\"DejaVuSans-31\" d=\"M 794 531 \nL 1825 531 \nL 1825 4091 \nL 703 3866 \nL 703 4441 \nL 1819 4666 \nL 2450 4666 \nL 2450 531 \nL 3481 531 \nL 3481 0 \nL 794 0 \nL 794 531 \nz\n\" transform=\"scale(0.015625)\"/>\n        <path id=\"DejaVuSans-30\" d=\"M 2034 4250 \nQ 1547 4250 1301 3770 \nQ 1056 3291 1056 2328 \nQ 1056 1369 1301 889 \nQ 1547 409 2034 409 \nQ 2525 409 2770 889 \nQ 3016 1369 3016 2328 \nQ 3016 3291 2770 3770 \nQ 2525 4250 2034 4250 \nz\nM 2034 4750 \nQ 2819 4750 3233 4129 \nQ 3647 3509 3647 2328 \nQ 3647 1150 3233 529 \nQ 2819 -91 2034 -91 \nQ 1250 -91 836 529 \nQ 422 1150 422 2328 \nQ 422 3509 836 4129 \nQ 1250 4750 2034 4750 \nz\n\" transform=\"scale(0.015625)\"/>\n       </defs>\n       <use xlink:href=\"#DejaVuSans-31\" transform=\"translate(0 0.78125)\"/>\n       <use xlink:href=\"#DejaVuSans-30\" transform=\"translate(63.623047 0.78125)\"/>\n      </g>\n     </g>\n    </g>\n    <g id=\"ytick_3\">\n     <g id=\"line2d_13\">\n      <path d=\"M 17.39834 86.465103 \nL 351.752596 86.465103 \n\" clip-path=\"url(#p8ded18c827)\" style=\"fill: none; stroke: #000000; stroke-opacity: 0.1; stroke-width: 0.5; stroke-linecap: square\"/>\n     </g>\n     <g id=\"line2d_14\">\n      <g>\n       <use xlink:href=\"#m1af55a1f73\" x=\"17.39834\" y=\"86.465103\" style=\"stroke: #000000; stroke-width: 0.5\"/>\n      </g>\n     </g>\n     <g id=\"text_7\">\n      <!-- $15$ -->\n      <g transform=\"translate(3.65834 89.504478)scale(0.08 -0.08)\">\n       <use xlink:href=\"#DejaVuSans-31\" transform=\"translate(0 0.09375)\"/>\n       <use xlink:href=\"#DejaVuSans-35\" transform=\"translate(63.623047 0.09375)\"/>\n      </g>\n     </g>\n    </g>\n    <g id=\"ytick_4\">\n     <g id=\"line2d_15\">\n      <path d=\"M 17.39834 22.133982 \nL 351.752596 22.133982 \n\" clip-path=\"url(#p8ded18c827)\" style=\"fill: none; stroke: #000000; stroke-opacity: 0.1; stroke-width: 0.5; stroke-linecap: square\"/>\n     </g>\n     <g id=\"line2d_16\">\n      <g>\n       <use xlink:href=\"#m1af55a1f73\" x=\"17.39834\" y=\"22.133982\" style=\"stroke: #000000; stroke-width: 0.5\"/>\n      </g>\n     </g>\n     <g id=\"text_8\">\n      <!-- $20$ -->\n      <g transform=\"translate(3.65834 25.173357)scale(0.08 -0.08)\">\n       <use xlink:href=\"#DejaVuSans-32\" transform=\"translate(0 0.78125)\"/>\n       <use xlink:href=\"#DejaVuSans-30\" transform=\"translate(63.623047 0.78125)\"/>\n      </g>\n     </g>\n    </g>\n   </g>\n   <g id=\"QuadMesh_1\">\n    <path d=\"M 17.39834 273.025354 \nL 54.548812 273.025354 \nL 54.548812 260.15913 \nL 17.39834 260.15913 \nL 17.39834 273.025354 \n\" clip-path=\"url(#p8ded18c827)\" style=\"fill: #fcffa4\"/>\n    <path d=\"M 54.548812 273.025354 \nL 91.699285 273.025354 \nL 91.699285 260.15913 \nL 54.548812 260.15913 \nL 54.548812 273.025354 \n\" clip-path=\"url(#p8ded18c827)\" style=\"fill: #f1ef75\"/>\n    <path d=\"M 91.699285 273.025354 \nL 128.849758 273.025354 \nL 128.849758 260.15913 \nL 91.699285 260.15913 \nL 91.699285 273.025354 \n\" clip-path=\"url(#p8ded18c827)\" style=\"fill: #fbbe23\"/>\n    <path d=\"M 128.849758 273.025354 \nL 166.000231 273.025354 \nL 166.000231 260.15913 \nL 128.849758 260.15913 \nL 128.849758 273.025354 \n\" clip-path=\"url(#p8ded18c827)\" style=\"fill: #fc9f07\"/>\n    <path d=\"M 166.000231 273.025354 \nL 203.150704 273.025354 \nL 203.150704 260.15913 \nL 166.000231 260.15913 \nL 166.000231 273.025354 \n\" clip-path=\"url(#p8ded18c827)\" style=\"fill: #df5337\"/>\n    <path d=\"M 203.150704 273.025354 \nL 240.301177 273.025354 \nL 240.301177 260.15913 \nL 203.150704 260.15913 \nL 203.150704 273.025354 \n\" clip-path=\"url(#p8ded18c827)\" style=\"fill: #b1325a\"/>\n    <path d=\"M 240.301177 273.025354 \nL 277.45165 273.025354 \nL 277.45165 260.15913 \nL 240.301177 260.15913 \nL 240.301177 273.025354 \n\" clip-path=\"url(#p8ded18c827)\" style=\"fill: #59106e\"/>\n    <path d=\"M 277.45165 273.025354 \nL 314.602123 273.025354 \nL 314.602123 260.15913 \nL 277.45165 260.15913 \nL 277.45165 273.025354 \n\" clip-path=\"url(#p8ded18c827)\" style=\"fill: #7c1d6d\"/>\n    <path d=\"M 314.602123 273.025354 \nL 351.752596 273.025354 \nL 351.752596 260.15913 \nL 314.602123 260.15913 \nL 314.602123 273.025354 \n\" clip-path=\"url(#p8ded18c827)\" style=\"fill: #2b0b57\"/>\n    <path d=\"M 17.39834 260.15913 \nL 54.548812 260.15913 \nL 54.548812 247.292906 \nL 17.39834 247.292906 \nL 17.39834 260.15913 \n\" clip-path=\"url(#p8ded18c827)\" style=\"fill: #f8cf3a\"/>\n    <path d=\"M 54.548812 260.15913 \nL 91.699285 260.15913 \nL 91.699285 247.292906 \nL 54.548812 247.292906 \nL 54.548812 260.15913 \n\" clip-path=\"url(#p8ded18c827)\" style=\"fill: #ee6a24\"/>\n    <path d=\"M 91.699285 260.15913 \nL 128.849758 260.15913 \nL 128.849758 247.292906 \nL 91.699285 247.292906 \nL 91.699285 260.15913 \n\" clip-path=\"url(#p8ded18c827)\" style=\"fill: #a02a63\"/>\n    <path d=\"M 128.849758 260.15913 \nL 166.000231 260.15913 \nL 166.000231 247.292906 \nL 128.849758 247.292906 \nL 128.849758 260.15913 \n\" clip-path=\"url(#p8ded18c827)\" style=\"fill: #a02a63\"/>\n    <path d=\"M 166.000231 260.15913 \nL 203.150704 260.15913 \nL 203.150704 247.292906 \nL 166.000231 247.292906 \nL 166.000231 260.15913 \n\" clip-path=\"url(#p8ded18c827)\" style=\"fill: #741a6e\"/>\n    <path d=\"M 203.150704 260.15913 \nL 240.301177 260.15913 \nL 240.301177 247.292906 \nL 203.150704 247.292906 \nL 203.150704 260.15913 \n\" clip-path=\"url(#p8ded18c827)\" style=\"fill: #88226a\"/>\n    <path d=\"M 240.301177 260.15913 \nL 277.45165 260.15913 \nL 277.45165 247.292906 \nL 240.301177 247.292906 \nL 240.301177 260.15913 \n\" clip-path=\"url(#p8ded18c827)\" style=\"fill: #61136e\"/>\n    <path d=\"M 277.45165 260.15913 \nL 314.602123 260.15913 \nL 314.602123 247.292906 \nL 277.45165 247.292906 \nL 277.45165 260.15913 \n\" clip-path=\"url(#p8ded18c827)\" style=\"fill: #4d0d6c\"/>\n    <path d=\"M 314.602123 260.15913 \nL 351.752596 260.15913 \nL 351.752596 247.292906 \nL 314.602123 247.292906 \nL 314.602123 260.15913 \n\" clip-path=\"url(#p8ded18c827)\" style=\"fill: #4f0d6c\"/>\n    <path d=\"M 17.39834 247.292906 \nL 54.548812 247.292906 \nL 54.548812 234.426682 \nL 17.39834 234.426682 \nL 17.39834 247.292906 \n\" clip-path=\"url(#p8ded18c827)\" style=\"fill: #f1711f\"/>\n    <path d=\"M 54.548812 247.292906 \nL 91.699285 247.292906 \nL 91.699285 234.426682 \nL 54.548812 234.426682 \nL 54.548812 247.292906 \n\" clip-path=\"url(#p8ded18c827)\" style=\"fill: #a92e5e\"/>\n    <path d=\"M 91.699285 247.292906 \nL 128.849758 247.292906 \nL 128.849758 234.426682 \nL 91.699285 234.426682 \nL 91.699285 247.292906 \n\" clip-path=\"url(#p8ded18c827)\" style=\"fill: #7f1e6c\"/>\n    <path d=\"M 128.849758 247.292906 \nL 166.000231 247.292906 \nL 166.000231 234.426682 \nL 128.849758 234.426682 \nL 128.849758 247.292906 \n\" clip-path=\"url(#p8ded18c827)\" style=\"fill: #5f136e\"/>\n    <path d=\"M 166.000231 247.292906 \nL 203.150704 247.292906 \nL 203.150704 234.426682 \nL 166.000231 234.426682 \nL 166.000231 247.292906 \n\" clip-path=\"url(#p8ded18c827)\" style=\"fill: #2b0b57\"/>\n    <path d=\"M 203.150704 247.292906 \nL 240.301177 247.292906 \nL 240.301177 234.426682 \nL 203.150704 234.426682 \nL 203.150704 247.292906 \n\" clip-path=\"url(#p8ded18c827)\" style=\"fill: #210c4a\"/>\n    <path d=\"M 240.301177 247.292906 \nL 277.45165 247.292906 \nL 277.45165 234.426682 \nL 240.301177 234.426682 \nL 240.301177 247.292906 \n\" clip-path=\"url(#p8ded18c827)\" style=\"fill: #10092d\"/>\n    <path d=\"M 277.45165 247.292906 \nL 314.602123 247.292906 \nL 314.602123 234.426682 \nL 277.45165 234.426682 \nL 277.45165 247.292906 \n\" clip-path=\"url(#p8ded18c827)\" style=\"fill: #09061f\"/>\n    <path d=\"M 314.602123 247.292906 \nL 351.752596 247.292906 \nL 351.752596 234.426682 \nL 314.602123 234.426682 \nL 314.602123 247.292906 \n\" clip-path=\"url(#p8ded18c827)\" style=\"fill: #02020c\"/>\n    <path d=\"M 17.39834 234.426682 \nL 54.548812 234.426682 \nL 54.548812 221.560457 \nL 17.39834 221.560457 \nL 17.39834 234.426682 \n\" clip-path=\"url(#p8ded18c827)\" style=\"fill: #eb6628\"/>\n    <path d=\"M 54.548812 234.426682 \nL 91.699285 234.426682 \nL 91.699285 221.560457 \nL 54.548812 221.560457 \nL 54.548812 234.426682 \n\" clip-path=\"url(#p8ded18c827)\" style=\"fill: #6d186e\"/>\n    <path d=\"M 91.699285 234.426682 \nL 128.849758 234.426682 \nL 128.849758 221.560457 \nL 91.699285 221.560457 \nL 91.699285 234.426682 \n\" clip-path=\"url(#p8ded18c827)\" style=\"fill: #550f6d\"/>\n    <path d=\"M 128.849758 234.426682 \nL 166.000231 234.426682 \nL 166.000231 221.560457 \nL 128.849758 221.560457 \nL 128.849758 234.426682 \n\" clip-path=\"url(#p8ded18c827)\" style=\"fill: #3e0966\"/>\n    <path d=\"M 166.000231 234.426682 \nL 203.150704 234.426682 \nL 203.150704 221.560457 \nL 166.000231 221.560457 \nL 166.000231 234.426682 \n\" clip-path=\"url(#p8ded18c827)\" style=\"fill: #150b37\"/>\n    <path d=\"M 203.150704 234.426682 \nL 240.301177 234.426682 \nL 240.301177 221.560457 \nL 203.150704 221.560457 \nL 203.150704 234.426682 \n\" clip-path=\"url(#p8ded18c827)\" style=\"fill: #0e092b\"/>\n    <path d=\"M 240.301177 234.426682 \nL 277.45165 234.426682 \nL 277.45165 221.560457 \nL 240.301177 221.560457 \nL 240.301177 234.426682 \n\" clip-path=\"url(#p8ded18c827)\" style=\"fill: #040312\"/>\n    <path d=\"M 277.45165 234.426682 \nL 314.602123 234.426682 \nL 314.602123 221.560457 \nL 277.45165 221.560457 \nL 277.45165 234.426682 \n\" clip-path=\"url(#p8ded18c827)\" style=\"fill: #07051b\"/>\n    <path d=\"M 314.602123 234.426682 \nL 351.752596 234.426682 \nL 351.752596 221.560457 \nL 314.602123 221.560457 \nL 314.602123 234.426682 \n\" clip-path=\"url(#p8ded18c827)\" style=\"fill: #07051b\"/>\n    <path d=\"M 17.39834 221.560457 \nL 54.548812 221.560457 \nL 54.548812 208.694233 \nL 17.39834 208.694233 \nL 17.39834 221.560457 \n\" clip-path=\"url(#p8ded18c827)\" style=\"fill: #c13a50\"/>\n    <path d=\"M 54.548812 221.560457 \nL 91.699285 221.560457 \nL 91.699285 208.694233 \nL 54.548812 208.694233 \nL 54.548812 221.560457 \n\" clip-path=\"url(#p8ded18c827)\" style=\"fill: #8d2369\"/>\n    <path d=\"M 91.699285 221.560457 \nL 128.849758 221.560457 \nL 128.849758 208.694233 \nL 91.699285 208.694233 \nL 91.699285 221.560457 \n\" clip-path=\"url(#p8ded18c827)\" style=\"fill: #4c0c6b\"/>\n    <path d=\"M 128.849758 221.560457 \nL 166.000231 221.560457 \nL 166.000231 208.694233 \nL 128.849758 208.694233 \nL 128.849758 221.560457 \n\" clip-path=\"url(#p8ded18c827)\" style=\"fill: #150b37\"/>\n    <path d=\"M 166.000231 221.560457 \nL 203.150704 221.560457 \nL 203.150704 208.694233 \nL 166.000231 208.694233 \nL 166.000231 221.560457 \n\" clip-path=\"url(#p8ded18c827)\" style=\"fill: #120a32\"/>\n    <path d=\"M 203.150704 221.560457 \nL 240.301177 221.560457 \nL 240.301177 208.694233 \nL 203.150704 208.694233 \nL 203.150704 221.560457 \n\" clip-path=\"url(#p8ded18c827)\" style=\"fill: #010108\"/>\n    <path d=\"M 240.301177 221.560457 \nL 277.45165 221.560457 \nL 277.45165 208.694233 \nL 240.301177 208.694233 \nL 240.301177 221.560457 \n\" clip-path=\"url(#p8ded18c827)\" style=\"fill: #050417\"/>\n    <path d=\"M 277.45165 221.560457 \nL 314.602123 221.560457 \nL 314.602123 208.694233 \nL 277.45165 208.694233 \nL 277.45165 221.560457 \n\" clip-path=\"url(#p8ded18c827)\" style=\"fill: #000004\"/>\n    <path d=\"M 314.602123 221.560457 \nL 351.752596 221.560457 \nL 351.752596 208.694233 \nL 314.602123 208.694233 \nL 314.602123 221.560457 \n\" clip-path=\"url(#p8ded18c827)\" style=\"fill: #0d0829\"/>\n    <path d=\"M 17.39834 208.694233 \nL 54.548812 208.694233 \nL 54.548812 195.828009 \nL 17.39834 195.828009 \nL 17.39834 208.694233 \n\" clip-path=\"url(#p8ded18c827)\" style=\"fill: #e35933\"/>\n    <path d=\"M 54.548812 208.694233 \nL 91.699285 208.694233 \nL 91.699285 195.828009 \nL 54.548812 195.828009 \nL 54.548812 208.694233 \n\" clip-path=\"url(#p8ded18c827)\" style=\"fill: #751b6e\"/>\n    <path d=\"M 91.699285 208.694233 \nL 128.849758 208.694233 \nL 128.849758 195.828009 \nL 91.699285 195.828009 \nL 91.699285 208.694233 \n\" clip-path=\"url(#p8ded18c827)\" style=\"fill: #380962\"/>\n    <path d=\"M 128.849758 208.694233 \nL 166.000231 208.694233 \nL 166.000231 195.828009 \nL 128.849758 195.828009 \nL 128.849758 208.694233 \n\" clip-path=\"url(#p8ded18c827)\" style=\"fill: #10092d\"/>\n    <path d=\"M 166.000231 208.694233 \nL 203.150704 208.694233 \nL 203.150704 195.828009 \nL 166.000231 195.828009 \nL 166.000231 208.694233 \n\" clip-path=\"url(#p8ded18c827)\" style=\"fill: #010106\"/>\n    <path d=\"M 203.150704 208.694233 \nL 240.301177 208.694233 \nL 240.301177 195.828009 \nL 203.150704 195.828009 \nL 203.150704 208.694233 \n\" clip-path=\"url(#p8ded18c827)\" style=\"fill: #050417\"/>\n    <path d=\"M 240.301177 208.694233 \nL 277.45165 208.694233 \nL 277.45165 195.828009 \nL 240.301177 195.828009 \nL 240.301177 208.694233 \n\" clip-path=\"url(#p8ded18c827)\" style=\"fill: #050417\"/>\n    <path d=\"M 277.45165 208.694233 \nL 314.602123 208.694233 \nL 314.602123 195.828009 \nL 277.45165 195.828009 \nL 277.45165 208.694233 \n\" clip-path=\"url(#p8ded18c827)\" style=\"fill: #02020c\"/>\n    <path d=\"M 314.602123 208.694233 \nL 351.752596 208.694233 \nL 351.752596 195.828009 \nL 314.602123 195.828009 \nL 314.602123 208.694233 \n\" clip-path=\"url(#p8ded18c827)\" style=\"fill: #0c0826\"/>\n    <path d=\"M 17.39834 195.828009 \nL 54.548812 195.828009 \nL 54.548812 182.961785 \nL 17.39834 182.961785 \nL 17.39834 195.828009 \n\" clip-path=\"url(#p8ded18c827)\" style=\"fill: #ab2f5e\"/>\n    <path d=\"M 54.548812 195.828009 \nL 91.699285 195.828009 \nL 91.699285 182.961785 \nL 54.548812 182.961785 \nL 54.548812 195.828009 \n\" clip-path=\"url(#p8ded18c827)\" style=\"fill: #3d0965\"/>\n    <path d=\"M 91.699285 195.828009 \nL 128.849758 195.828009 \nL 128.849758 182.961785 \nL 91.699285 182.961785 \nL 91.699285 195.828009 \n\" clip-path=\"url(#p8ded18c827)\" style=\"fill: #1e0c45\"/>\n    <path d=\"M 128.849758 195.828009 \nL 166.000231 195.828009 \nL 166.000231 182.961785 \nL 128.849758 182.961785 \nL 128.849758 195.828009 \n\" clip-path=\"url(#p8ded18c827)\" style=\"fill: #280b53\"/>\n    <path d=\"M 166.000231 195.828009 \nL 203.150704 195.828009 \nL 203.150704 182.961785 \nL 166.000231 182.961785 \nL 166.000231 195.828009 \n\" clip-path=\"url(#p8ded18c827)\" style=\"fill: #0c0826\"/>\n    <path d=\"M 203.150704 195.828009 \nL 240.301177 195.828009 \nL 240.301177 182.961785 \nL 203.150704 182.961785 \nL 203.150704 195.828009 \n\" clip-path=\"url(#p8ded18c827)\" style=\"fill: #050417\"/>\n    <path d=\"M 240.301177 195.828009 \nL 277.45165 195.828009 \nL 277.45165 182.961785 \nL 240.301177 182.961785 \nL 240.301177 195.828009 \n\" clip-path=\"url(#p8ded18c827)\" style=\"fill: #0a0722\"/>\n    <path d=\"M 277.45165 195.828009 \nL 314.602123 195.828009 \nL 314.602123 182.961785 \nL 277.45165 182.961785 \nL 277.45165 195.828009 \n\" clip-path=\"url(#p8ded18c827)\" style=\"fill: #0c0826\"/>\n    <path d=\"M 314.602123 195.828009 \nL 351.752596 195.828009 \nL 351.752596 182.961785 \nL 314.602123 182.961785 \nL 314.602123 195.828009 \n\" clip-path=\"url(#p8ded18c827)\" style=\"fill: #180c3c\"/>\n    <path d=\"M 17.39834 182.961785 \nL 54.548812 182.961785 \nL 54.548812 170.095561 \nL 17.39834 170.095561 \nL 17.39834 182.961785 \n\" clip-path=\"url(#p8ded18c827)\" style=\"fill: #9b2964\"/>\n    <path d=\"M 54.548812 182.961785 \nL 91.699285 182.961785 \nL 91.699285 170.095561 \nL 54.548812 170.095561 \nL 54.548812 182.961785 \n\" clip-path=\"url(#p8ded18c827)\" style=\"fill: #3e0966\"/>\n    <path d=\"M 91.699285 182.961785 \nL 128.849758 182.961785 \nL 128.849758 170.095561 \nL 91.699285 170.095561 \nL 91.699285 182.961785 \n\" clip-path=\"url(#p8ded18c827)\" style=\"fill: #340a5f\"/>\n    <path d=\"M 128.849758 182.961785 \nL 166.000231 182.961785 \nL 166.000231 170.095561 \nL 128.849758 170.095561 \nL 128.849758 182.961785 \n\" clip-path=\"url(#p8ded18c827)\" style=\"fill: #110a30\"/>\n    <path d=\"M 166.000231 182.961785 \nL 203.150704 182.961785 \nL 203.150704 170.095561 \nL 166.000231 170.095561 \nL 166.000231 182.961785 \n\" clip-path=\"url(#p8ded18c827)\" style=\"fill: #10092d\"/>\n    <path d=\"M 203.150704 182.961785 \nL 240.301177 182.961785 \nL 240.301177 170.095561 \nL 203.150704 170.095561 \nL 203.150704 182.961785 \n\" clip-path=\"url(#p8ded18c827)\" style=\"fill: #010106\"/>\n    <path d=\"M 240.301177 182.961785 \nL 277.45165 182.961785 \nL 277.45165 170.095561 \nL 240.301177 170.095561 \nL 240.301177 182.961785 \n\" clip-path=\"url(#p8ded18c827)\" style=\"fill: #040314\"/>\n    <path d=\"M 277.45165 182.961785 \nL 314.602123 182.961785 \nL 314.602123 170.095561 \nL 277.45165 170.095561 \nL 277.45165 182.961785 \n\" clip-path=\"url(#p8ded18c827)\" style=\"fill: #02020e\"/>\n    <path d=\"M 314.602123 182.961785 \nL 351.752596 182.961785 \nL 351.752596 170.095561 \nL 314.602123 170.095561 \nL 314.602123 182.961785 \n\" clip-path=\"url(#p8ded18c827)\" style=\"fill: #1c0c43\"/>\n    <path d=\"M 17.39834 170.095561 \nL 54.548812 170.095561 \nL 54.548812 157.229336 \nL 17.39834 157.229336 \nL 17.39834 170.095561 \n\" clip-path=\"url(#p8ded18c827)\" style=\"fill: #b0315b\"/>\n    <path d=\"M 54.548812 170.095561 \nL 91.699285 170.095561 \nL 91.699285 157.229336 \nL 54.548812 157.229336 \nL 54.548812 170.095561 \n\" clip-path=\"url(#p8ded18c827)\" style=\"fill: #3e0966\"/>\n    <path d=\"M 91.699285 170.095561 \nL 128.849758 170.095561 \nL 128.849758 157.229336 \nL 91.699285 157.229336 \nL 91.699285 170.095561 \n\" clip-path=\"url(#p8ded18c827)\" style=\"fill: #210c4a\"/>\n    <path d=\"M 128.849758 170.095561 \nL 166.000231 170.095561 \nL 166.000231 157.229336 \nL 128.849758 157.229336 \nL 128.849758 170.095561 \n\" clip-path=\"url(#p8ded18c827)\" style=\"fill: #0a0722\"/>\n    <path d=\"M 166.000231 170.095561 \nL 203.150704 170.095561 \nL 203.150704 157.229336 \nL 166.000231 157.229336 \nL 166.000231 170.095561 \n\" clip-path=\"url(#p8ded18c827)\" style=\"fill: #140b34\"/>\n    <path d=\"M 203.150704 170.095561 \nL 240.301177 170.095561 \nL 240.301177 157.229336 \nL 203.150704 157.229336 \nL 203.150704 170.095561 \n\" clip-path=\"url(#p8ded18c827)\" style=\"fill: #07051b\"/>\n    <path d=\"M 240.301177 170.095561 \nL 277.45165 170.095561 \nL 277.45165 157.229336 \nL 240.301177 157.229336 \nL 240.301177 170.095561 \n\" clip-path=\"url(#p8ded18c827)\" style=\"fill: #060419\"/>\n    <path d=\"M 277.45165 170.095561 \nL 314.602123 170.095561 \nL 314.602123 157.229336 \nL 277.45165 157.229336 \nL 277.45165 170.095561 \n\" clip-path=\"url(#p8ded18c827)\" style=\"fill: #110a30\"/>\n    <path d=\"M 314.602123 170.095561 \nL 351.752596 170.095561 \nL 351.752596 157.229336 \nL 314.602123 157.229336 \nL 314.602123 170.095561 \n\" clip-path=\"url(#p8ded18c827)\" style=\"fill: #1f0c48\"/>\n    <path d=\"M 17.39834 157.229336 \nL 54.548812 157.229336 \nL 54.548812 144.363112 \nL 17.39834 144.363112 \nL 17.39834 157.229336 \n\" clip-path=\"url(#p8ded18c827)\" style=\"fill: #982766\"/>\n    <path d=\"M 54.548812 157.229336 \nL 91.699285 157.229336 \nL 91.699285 144.363112 \nL 54.548812 144.363112 \nL 54.548812 157.229336 \n\" clip-path=\"url(#p8ded18c827)\" style=\"fill: #440a68\"/>\n    <path d=\"M 91.699285 157.229336 \nL 128.849758 157.229336 \nL 128.849758 144.363112 \nL 91.699285 144.363112 \nL 91.699285 157.229336 \n\" clip-path=\"url(#p8ded18c827)\" style=\"fill: #190c3e\"/>\n    <path d=\"M 128.849758 157.229336 \nL 166.000231 157.229336 \nL 166.000231 144.363112 \nL 128.849758 144.363112 \nL 128.849758 157.229336 \n\" clip-path=\"url(#p8ded18c827)\" style=\"fill: #230c4c\"/>\n    <path d=\"M 166.000231 157.229336 \nL 203.150704 157.229336 \nL 203.150704 144.363112 \nL 166.000231 144.363112 \nL 166.000231 157.229336 \n\" clip-path=\"url(#p8ded18c827)\" style=\"fill: #1e0c45\"/>\n    <path d=\"M 203.150704 157.229336 \nL 240.301177 157.229336 \nL 240.301177 144.363112 \nL 203.150704 144.363112 \nL 203.150704 157.229336 \n\" clip-path=\"url(#p8ded18c827)\" style=\"fill: #02020c\"/>\n    <path d=\"M 240.301177 157.229336 \nL 277.45165 157.229336 \nL 277.45165 144.363112 \nL 240.301177 144.363112 \nL 240.301177 157.229336 \n\" clip-path=\"url(#p8ded18c827)\" style=\"fill: #0b0724\"/>\n    <path d=\"M 277.45165 157.229336 \nL 314.602123 157.229336 \nL 314.602123 144.363112 \nL 277.45165 144.363112 \nL 277.45165 157.229336 \n\" clip-path=\"url(#p8ded18c827)\" style=\"fill: #150b37\"/>\n    <path d=\"M 314.602123 157.229336 \nL 351.752596 157.229336 \nL 351.752596 144.363112 \nL 314.602123 144.363112 \nL 314.602123 157.229336 \n\" clip-path=\"url(#p8ded18c827)\" style=\"fill: #1e0c45\"/>\n    <path d=\"M 17.39834 144.363112 \nL 54.548812 144.363112 \nL 54.548812 131.496888 \nL 17.39834 131.496888 \nL 17.39834 144.363112 \n\" clip-path=\"url(#p8ded18c827)\" style=\"fill: #b63458\"/>\n    <path d=\"M 54.548812 144.363112 \nL 91.699285 144.363112 \nL 91.699285 131.496888 \nL 54.548812 131.496888 \nL 54.548812 144.363112 \n\" clip-path=\"url(#p8ded18c827)\" style=\"fill: #2f0a5b\"/>\n    <path d=\"M 91.699285 144.363112 \nL 128.849758 144.363112 \nL 128.849758 131.496888 \nL 91.699285 131.496888 \nL 91.699285 144.363112 \n\" clip-path=\"url(#p8ded18c827)\" style=\"fill: #1e0c45\"/>\n    <path d=\"M 128.849758 144.363112 \nL 166.000231 144.363112 \nL 166.000231 131.496888 \nL 128.849758 131.496888 \nL 128.849758 144.363112 \n\" clip-path=\"url(#p8ded18c827)\" style=\"fill: #10092d\"/>\n    <path d=\"M 166.000231 144.363112 \nL 203.150704 144.363112 \nL 203.150704 131.496888 \nL 166.000231 131.496888 \nL 166.000231 144.363112 \n\" clip-path=\"url(#p8ded18c827)\" style=\"fill: #07051b\"/>\n    <path d=\"M 203.150704 144.363112 \nL 240.301177 144.363112 \nL 240.301177 131.496888 \nL 203.150704 131.496888 \nL 203.150704 144.363112 \n\" clip-path=\"url(#p8ded18c827)\" style=\"fill: #0c0826\"/>\n    <path d=\"M 240.301177 144.363112 \nL 277.45165 144.363112 \nL 277.45165 131.496888 \nL 240.301177 131.496888 \nL 240.301177 144.363112 \n\" clip-path=\"url(#p8ded18c827)\" style=\"fill: #0d0829\"/>\n    <path d=\"M 277.45165 144.363112 \nL 314.602123 144.363112 \nL 314.602123 131.496888 \nL 277.45165 131.496888 \nL 277.45165 144.363112 \n\" clip-path=\"url(#p8ded18c827)\" style=\"fill: #1e0c45\"/>\n    <path d=\"M 314.602123 144.363112 \nL 351.752596 144.363112 \nL 351.752596 131.496888 \nL 314.602123 131.496888 \nL 314.602123 144.363112 \n\" clip-path=\"url(#p8ded18c827)\" style=\"fill: #180c3c\"/>\n    <path d=\"M 17.39834 131.496888 \nL 54.548812 131.496888 \nL 54.548812 118.630664 \nL 17.39834 118.630664 \nL 17.39834 131.496888 \n\" clip-path=\"url(#p8ded18c827)\" style=\"fill: #8d2369\"/>\n    <path d=\"M 54.548812 131.496888 \nL 91.699285 131.496888 \nL 91.699285 118.630664 \nL 54.548812 118.630664 \nL 54.548812 131.496888 \n\" clip-path=\"url(#p8ded18c827)\" style=\"fill: #230c4c\"/>\n    <path d=\"M 91.699285 131.496888 \nL 128.849758 131.496888 \nL 128.849758 118.630664 \nL 91.699285 118.630664 \nL 91.699285 131.496888 \n\" clip-path=\"url(#p8ded18c827)\" style=\"fill: #2b0b57\"/>\n    <path d=\"M 128.849758 131.496888 \nL 166.000231 131.496888 \nL 166.000231 118.630664 \nL 128.849758 118.630664 \nL 128.849758 131.496888 \n\" clip-path=\"url(#p8ded18c827)\" style=\"fill: #10092d\"/>\n    <path d=\"M 166.000231 131.496888 \nL 203.150704 131.496888 \nL 203.150704 118.630664 \nL 166.000231 118.630664 \nL 166.000231 131.496888 \n\" clip-path=\"url(#p8ded18c827)\" style=\"fill: #1e0c45\"/>\n    <path d=\"M 203.150704 131.496888 \nL 240.301177 131.496888 \nL 240.301177 118.630664 \nL 203.150704 118.630664 \nL 203.150704 131.496888 \n\" clip-path=\"url(#p8ded18c827)\" style=\"fill: #0d0829\"/>\n    <path d=\"M 240.301177 131.496888 \nL 277.45165 131.496888 \nL 277.45165 118.630664 \nL 240.301177 118.630664 \nL 240.301177 131.496888 \n\" clip-path=\"url(#p8ded18c827)\" style=\"fill: #0e092b\"/>\n    <path d=\"M 277.45165 131.496888 \nL 314.602123 131.496888 \nL 314.602123 118.630664 \nL 277.45165 118.630664 \nL 277.45165 131.496888 \n\" clip-path=\"url(#p8ded18c827)\" style=\"fill: #040314\"/>\n    <path d=\"M 314.602123 131.496888 \nL 351.752596 131.496888 \nL 351.752596 118.630664 \nL 314.602123 118.630664 \nL 314.602123 131.496888 \n\" clip-path=\"url(#p8ded18c827)\" style=\"fill: #1e0c45\"/>\n    <path d=\"M 17.39834 118.630664 \nL 54.548812 118.630664 \nL 54.548812 105.764439 \nL 17.39834 105.764439 \nL 17.39834 118.630664 \n\" clip-path=\"url(#p8ded18c827)\" style=\"fill: #ad305d\"/>\n    <path d=\"M 54.548812 118.630664 \nL 91.699285 118.630664 \nL 91.699285 105.764439 \nL 54.548812 105.764439 \nL 54.548812 118.630664 \n\" clip-path=\"url(#p8ded18c827)\" style=\"fill: #3e0966\"/>\n    <path d=\"M 91.699285 118.630664 \nL 128.849758 118.630664 \nL 128.849758 105.764439 \nL 91.699285 105.764439 \nL 91.699285 118.630664 \n\" clip-path=\"url(#p8ded18c827)\" style=\"fill: #400a67\"/>\n    <path d=\"M 128.849758 118.630664 \nL 166.000231 118.630664 \nL 166.000231 105.764439 \nL 128.849758 105.764439 \nL 128.849758 118.630664 \n\" clip-path=\"url(#p8ded18c827)\" style=\"fill: #1b0c41\"/>\n    <path d=\"M 166.000231 118.630664 \nL 203.150704 118.630664 \nL 203.150704 105.764439 \nL 166.000231 105.764439 \nL 166.000231 118.630664 \n\" clip-path=\"url(#p8ded18c827)\" style=\"fill: #310a5c\"/>\n    <path d=\"M 203.150704 118.630664 \nL 240.301177 118.630664 \nL 240.301177 105.764439 \nL 203.150704 105.764439 \nL 203.150704 118.630664 \n\" clip-path=\"url(#p8ded18c827)\" style=\"fill: #110a30\"/>\n    <path d=\"M 240.301177 118.630664 \nL 277.45165 118.630664 \nL 277.45165 105.764439 \nL 240.301177 105.764439 \nL 240.301177 118.630664 \n\" clip-path=\"url(#p8ded18c827)\" style=\"fill: #160b39\"/>\n    <path d=\"M 277.45165 118.630664 \nL 314.602123 118.630664 \nL 314.602123 105.764439 \nL 277.45165 105.764439 \nL 277.45165 118.630664 \n\" clip-path=\"url(#p8ded18c827)\" style=\"fill: #02020e\"/>\n    <path d=\"M 314.602123 118.630664 \nL 351.752596 118.630664 \nL 351.752596 105.764439 \nL 314.602123 105.764439 \nL 314.602123 118.630664 \n\" clip-path=\"url(#p8ded18c827)\" style=\"fill: #190c3e\"/>\n    <path d=\"M 17.39834 105.764439 \nL 54.548812 105.764439 \nL 54.548812 92.898215 \nL 17.39834 92.898215 \nL 17.39834 105.764439 \n\" clip-path=\"url(#p8ded18c827)\" style=\"fill: #a02a63\"/>\n    <path d=\"M 54.548812 105.764439 \nL 91.699285 105.764439 \nL 91.699285 92.898215 \nL 54.548812 92.898215 \nL 54.548812 105.764439 \n\" clip-path=\"url(#p8ded18c827)\" style=\"fill: #2b0b57\"/>\n    <path d=\"M 91.699285 105.764439 \nL 128.849758 105.764439 \nL 128.849758 92.898215 \nL 91.699285 92.898215 \nL 91.699285 105.764439 \n\" clip-path=\"url(#p8ded18c827)\" style=\"fill: #2f0a5b\"/>\n    <path d=\"M 128.849758 105.764439 \nL 166.000231 105.764439 \nL 166.000231 92.898215 \nL 128.849758 92.898215 \nL 128.849758 105.764439 \n\" clip-path=\"url(#p8ded18c827)\" style=\"fill: #230c4c\"/>\n    <path d=\"M 166.000231 105.764439 \nL 203.150704 105.764439 \nL 203.150704 92.898215 \nL 166.000231 92.898215 \nL 166.000231 105.764439 \n\" clip-path=\"url(#p8ded18c827)\" style=\"fill: #210c4a\"/>\n    <path d=\"M 203.150704 105.764439 \nL 240.301177 105.764439 \nL 240.301177 92.898215 \nL 203.150704 92.898215 \nL 203.150704 105.764439 \n\" clip-path=\"url(#p8ded18c827)\" style=\"fill: #190c3e\"/>\n    <path d=\"M 240.301177 105.764439 \nL 277.45165 105.764439 \nL 277.45165 92.898215 \nL 240.301177 92.898215 \nL 240.301177 105.764439 \n\" clip-path=\"url(#p8ded18c827)\" style=\"fill: #120a32\"/>\n    <path d=\"M 277.45165 105.764439 \nL 314.602123 105.764439 \nL 314.602123 92.898215 \nL 277.45165 92.898215 \nL 277.45165 105.764439 \n\" clip-path=\"url(#p8ded18c827)\" style=\"fill: #030210\"/>\n    <path d=\"M 314.602123 105.764439 \nL 351.752596 105.764439 \nL 351.752596 92.898215 \nL 314.602123 92.898215 \nL 314.602123 105.764439 \n\" clip-path=\"url(#p8ded18c827)\" style=\"fill: #1b0c41\"/>\n    <path d=\"M 17.39834 92.898215 \nL 54.548812 92.898215 \nL 54.548812 80.031991 \nL 17.39834 80.031991 \nL 17.39834 92.898215 \n\" clip-path=\"url(#p8ded18c827)\" style=\"fill: #b1325a\"/>\n    <path d=\"M 54.548812 92.898215 \nL 91.699285 92.898215 \nL 91.699285 80.031991 \nL 54.548812 80.031991 \nL 54.548812 92.898215 \n\" clip-path=\"url(#p8ded18c827)\" style=\"fill: #2f0a5b\"/>\n    <path d=\"M 91.699285 92.898215 \nL 128.849758 92.898215 \nL 128.849758 80.031991 \nL 91.699285 80.031991 \nL 91.699285 92.898215 \n\" clip-path=\"url(#p8ded18c827)\" style=\"fill: #280b53\"/>\n    <path d=\"M 128.849758 92.898215 \nL 166.000231 92.898215 \nL 166.000231 80.031991 \nL 128.849758 80.031991 \nL 128.849758 92.898215 \n\" clip-path=\"url(#p8ded18c827)\" style=\"fill: #10092d\"/>\n    <path d=\"M 166.000231 92.898215 \nL 203.150704 92.898215 \nL 203.150704 80.031991 \nL 166.000231 80.031991 \nL 166.000231 92.898215 \n\" clip-path=\"url(#p8ded18c827)\" style=\"fill: #10092d\"/>\n    <path d=\"M 203.150704 92.898215 \nL 240.301177 92.898215 \nL 240.301177 80.031991 \nL 203.150704 80.031991 \nL 203.150704 92.898215 \n\" clip-path=\"url(#p8ded18c827)\" style=\"fill: #1f0c48\"/>\n    <path d=\"M 240.301177 92.898215 \nL 277.45165 92.898215 \nL 277.45165 80.031991 \nL 240.301177 80.031991 \nL 240.301177 92.898215 \n\" clip-path=\"url(#p8ded18c827)\" style=\"fill: #0b0724\"/>\n    <path d=\"M 277.45165 92.898215 \nL 314.602123 92.898215 \nL 314.602123 80.031991 \nL 277.45165 80.031991 \nL 277.45165 92.898215 \n\" clip-path=\"url(#p8ded18c827)\" style=\"fill: #07051b\"/>\n    <path d=\"M 314.602123 92.898215 \nL 351.752596 92.898215 \nL 351.752596 80.031991 \nL 314.602123 80.031991 \nL 314.602123 92.898215 \n\" clip-path=\"url(#p8ded18c827)\" style=\"fill: #1b0c41\"/>\n    <path d=\"M 17.39834 80.031991 \nL 54.548812 80.031991 \nL 54.548812 67.165767 \nL 17.39834 67.165767 \nL 17.39834 80.031991 \n\" clip-path=\"url(#p8ded18c827)\" style=\"fill: #d84c3e\"/>\n    <path d=\"M 54.548812 80.031991 \nL 91.699285 80.031991 \nL 91.699285 67.165767 \nL 54.548812 67.165767 \nL 54.548812 80.031991 \n\" clip-path=\"url(#p8ded18c827)\" style=\"fill: #5a116e\"/>\n    <path d=\"M 91.699285 80.031991 \nL 128.849758 80.031991 \nL 128.849758 67.165767 \nL 91.699285 67.165767 \nL 91.699285 80.031991 \n\" clip-path=\"url(#p8ded18c827)\" style=\"fill: #260c51\"/>\n    <path d=\"M 128.849758 80.031991 \nL 166.000231 80.031991 \nL 166.000231 67.165767 \nL 128.849758 67.165767 \nL 128.849758 80.031991 \n\" clip-path=\"url(#p8ded18c827)\" style=\"fill: #290b55\"/>\n    <path d=\"M 166.000231 80.031991 \nL 203.150704 80.031991 \nL 203.150704 67.165767 \nL 166.000231 67.165767 \nL 166.000231 80.031991 \n\" clip-path=\"url(#p8ded18c827)\" style=\"fill: #2d0b59\"/>\n    <path d=\"M 203.150704 80.031991 \nL 240.301177 80.031991 \nL 240.301177 67.165767 \nL 203.150704 67.165767 \nL 203.150704 80.031991 \n\" clip-path=\"url(#p8ded18c827)\" style=\"fill: #230c4c\"/>\n    <path d=\"M 240.301177 80.031991 \nL 277.45165 80.031991 \nL 277.45165 67.165767 \nL 240.301177 67.165767 \nL 240.301177 80.031991 \n\" clip-path=\"url(#p8ded18c827)\" style=\"fill: #0d0829\"/>\n    <path d=\"M 277.45165 80.031991 \nL 314.602123 80.031991 \nL 314.602123 67.165767 \nL 277.45165 67.165767 \nL 277.45165 80.031991 \n\" clip-path=\"url(#p8ded18c827)\" style=\"fill: #160b39\"/>\n    <path d=\"M 314.602123 80.031991 \nL 351.752596 80.031991 \nL 351.752596 67.165767 \nL 314.602123 67.165767 \nL 314.602123 80.031991 \n\" clip-path=\"url(#p8ded18c827)\" style=\"fill: #210c4a\"/>\n    <path d=\"M 17.39834 67.165767 \nL 54.548812 67.165767 \nL 54.548812 54.299543 \nL 17.39834 54.299543 \nL 17.39834 67.165767 \n\" clip-path=\"url(#p8ded18c827)\" style=\"fill: #8f2469\"/>\n    <path d=\"M 54.548812 67.165767 \nL 91.699285 67.165767 \nL 91.699285 54.299543 \nL 54.548812 54.299543 \nL 54.548812 67.165767 \n\" clip-path=\"url(#p8ded18c827)\" style=\"fill: #4a0c6b\"/>\n    <path d=\"M 91.699285 67.165767 \nL 128.849758 67.165767 \nL 128.849758 54.299543 \nL 91.699285 54.299543 \nL 91.699285 67.165767 \n\" clip-path=\"url(#p8ded18c827)\" style=\"fill: #10092d\"/>\n    <path d=\"M 128.849758 67.165767 \nL 166.000231 67.165767 \nL 166.000231 54.299543 \nL 128.849758 54.299543 \nL 128.849758 67.165767 \n\" clip-path=\"url(#p8ded18c827)\" style=\"fill: #2f0a5b\"/>\n    <path d=\"M 166.000231 67.165767 \nL 203.150704 67.165767 \nL 203.150704 54.299543 \nL 166.000231 54.299543 \nL 166.000231 67.165767 \n\" clip-path=\"url(#p8ded18c827)\" style=\"fill: #10092d\"/>\n    <path d=\"M 203.150704 67.165767 \nL 240.301177 67.165767 \nL 240.301177 54.299543 \nL 203.150704 54.299543 \nL 203.150704 67.165767 \n\" clip-path=\"url(#p8ded18c827)\" style=\"fill: #150b37\"/>\n    <path d=\"M 240.301177 67.165767 \nL 277.45165 67.165767 \nL 277.45165 54.299543 \nL 240.301177 54.299543 \nL 240.301177 67.165767 \n\" clip-path=\"url(#p8ded18c827)\" style=\"fill: #0e092b\"/>\n    <path d=\"M 277.45165 67.165767 \nL 314.602123 67.165767 \nL 314.602123 54.299543 \nL 277.45165 54.299543 \nL 277.45165 67.165767 \n\" clip-path=\"url(#p8ded18c827)\" style=\"fill: #0d0829\"/>\n    <path d=\"M 314.602123 67.165767 \nL 351.752596 67.165767 \nL 351.752596 54.299543 \nL 314.602123 54.299543 \nL 314.602123 67.165767 \n\" clip-path=\"url(#p8ded18c827)\" style=\"fill: #210c4a\"/>\n    <path d=\"M 17.39834 54.299543 \nL 54.548812 54.299543 \nL 54.548812 41.433318 \nL 17.39834 41.433318 \nL 17.39834 54.299543 \n\" clip-path=\"url(#p8ded18c827)\" style=\"fill: #d74b3f\"/>\n    <path d=\"M 54.548812 54.299543 \nL 91.699285 54.299543 \nL 91.699285 41.433318 \nL 54.548812 41.433318 \nL 54.548812 54.299543 \n\" clip-path=\"url(#p8ded18c827)\" style=\"fill: #4a0c6b\"/>\n    <path d=\"M 91.699285 54.299543 \nL 128.849758 54.299543 \nL 128.849758 41.433318 \nL 91.699285 41.433318 \nL 91.699285 54.299543 \n\" clip-path=\"url(#p8ded18c827)\" style=\"fill: #2f0a5b\"/>\n    <path d=\"M 128.849758 54.299543 \nL 166.000231 54.299543 \nL 166.000231 41.433318 \nL 128.849758 41.433318 \nL 128.849758 54.299543 \n\" clip-path=\"url(#p8ded18c827)\" style=\"fill: #280b53\"/>\n    <path d=\"M 166.000231 54.299543 \nL 203.150704 54.299543 \nL 203.150704 41.433318 \nL 166.000231 41.433318 \nL 166.000231 54.299543 \n\" clip-path=\"url(#p8ded18c827)\" style=\"fill: #1f0c48\"/>\n    <path d=\"M 203.150704 54.299543 \nL 240.301177 54.299543 \nL 240.301177 41.433318 \nL 203.150704 41.433318 \nL 203.150704 54.299543 \n\" clip-path=\"url(#p8ded18c827)\" style=\"fill: #180c3c\"/>\n    <path d=\"M 240.301177 54.299543 \nL 277.45165 54.299543 \nL 277.45165 41.433318 \nL 240.301177 41.433318 \nL 240.301177 54.299543 \n\" clip-path=\"url(#p8ded18c827)\" style=\"fill: #210c4a\"/>\n    <path d=\"M 277.45165 54.299543 \nL 314.602123 54.299543 \nL 314.602123 41.433318 \nL 277.45165 41.433318 \nL 277.45165 54.299543 \n\" clip-path=\"url(#p8ded18c827)\" style=\"fill: #180c3c\"/>\n    <path d=\"M 314.602123 54.299543 \nL 351.752596 54.299543 \nL 351.752596 41.433318 \nL 314.602123 41.433318 \nL 314.602123 54.299543 \n\" clip-path=\"url(#p8ded18c827)\" style=\"fill: #210c4a\"/>\n    <path d=\"M 17.39834 41.433318 \nL 54.548812 41.433318 \nL 54.548812 28.567094 \nL 17.39834 28.567094 \nL 17.39834 41.433318 \n\" clip-path=\"url(#p8ded18c827)\" style=\"fill: #b3325a\"/>\n    <path d=\"M 54.548812 41.433318 \nL 91.699285 41.433318 \nL 91.699285 28.567094 \nL 54.548812 28.567094 \nL 54.548812 41.433318 \n\" clip-path=\"url(#p8ded18c827)\" style=\"fill: #3b0964\"/>\n    <path d=\"M 91.699285 41.433318 \nL 128.849758 41.433318 \nL 128.849758 28.567094 \nL 91.699285 28.567094 \nL 91.699285 41.433318 \n\" clip-path=\"url(#p8ded18c827)\" style=\"fill: #240c4f\"/>\n    <path d=\"M 128.849758 41.433318 \nL 166.000231 41.433318 \nL 166.000231 28.567094 \nL 128.849758 28.567094 \nL 128.849758 41.433318 \n\" clip-path=\"url(#p8ded18c827)\" style=\"fill: #2b0b57\"/>\n    <path d=\"M 166.000231 41.433318 \nL 203.150704 41.433318 \nL 203.150704 28.567094 \nL 166.000231 28.567094 \nL 166.000231 41.433318 \n\" clip-path=\"url(#p8ded18c827)\" style=\"fill: #1b0c41\"/>\n    <path d=\"M 203.150704 41.433318 \nL 240.301177 41.433318 \nL 240.301177 28.567094 \nL 203.150704 28.567094 \nL 203.150704 41.433318 \n\" clip-path=\"url(#p8ded18c827)\" style=\"fill: #230c4c\"/>\n    <path d=\"M 240.301177 41.433318 \nL 277.45165 41.433318 \nL 277.45165 28.567094 \nL 240.301177 28.567094 \nL 240.301177 41.433318 \n\" clip-path=\"url(#p8ded18c827)\" style=\"fill: #0e092b\"/>\n    <path d=\"M 277.45165 41.433318 \nL 314.602123 41.433318 \nL 314.602123 28.567094 \nL 277.45165 28.567094 \nL 277.45165 41.433318 \n\" clip-path=\"url(#p8ded18c827)\" style=\"fill: #120a32\"/>\n    <path d=\"M 314.602123 41.433318 \nL 351.752596 41.433318 \nL 351.752596 28.567094 \nL 314.602123 28.567094 \nL 314.602123 41.433318 \n\" clip-path=\"url(#p8ded18c827)\" style=\"fill: #230c4c\"/>\n    <path d=\"M 17.39834 28.567094 \nL 54.548812 28.567094 \nL 54.548812 15.70087 \nL 17.39834 15.70087 \nL 17.39834 28.567094 \n\" clip-path=\"url(#p8ded18c827)\" style=\"fill: #cc4248\"/>\n    <path d=\"M 54.548812 28.567094 \nL 91.699285 28.567094 \nL 91.699285 15.70087 \nL 54.548812 15.70087 \nL 54.548812 28.567094 \n\" clip-path=\"url(#p8ded18c827)\" style=\"fill: #400a67\"/>\n    <path d=\"M 91.699285 28.567094 \nL 128.849758 28.567094 \nL 128.849758 15.70087 \nL 91.699285 15.70087 \nL 91.699285 28.567094 \n\" clip-path=\"url(#p8ded18c827)\" style=\"fill: #420a68\"/>\n    <path d=\"M 128.849758 28.567094 \nL 166.000231 28.567094 \nL 166.000231 15.70087 \nL 128.849758 15.70087 \nL 128.849758 28.567094 \n\" clip-path=\"url(#p8ded18c827)\" style=\"fill: #240c4f\"/>\n    <path d=\"M 166.000231 28.567094 \nL 203.150704 28.567094 \nL 203.150704 15.70087 \nL 166.000231 15.70087 \nL 166.000231 28.567094 \n\" clip-path=\"url(#p8ded18c827)\" style=\"fill: #320a5e\"/>\n    <path d=\"M 203.150704 28.567094 \nL 240.301177 28.567094 \nL 240.301177 15.70087 \nL 203.150704 15.70087 \nL 203.150704 28.567094 \n\" clip-path=\"url(#p8ded18c827)\" style=\"fill: #1b0c41\"/>\n    <path d=\"M 240.301177 28.567094 \nL 277.45165 28.567094 \nL 277.45165 15.70087 \nL 240.301177 15.70087 \nL 240.301177 28.567094 \n\" clip-path=\"url(#p8ded18c827)\" style=\"fill: #210c4a\"/>\n    <path d=\"M 277.45165 28.567094 \nL 314.602123 28.567094 \nL 314.602123 15.70087 \nL 277.45165 15.70087 \nL 277.45165 28.567094 \n\" clip-path=\"url(#p8ded18c827)\" style=\"fill: #120a32\"/>\n    <path d=\"M 314.602123 28.567094 \nL 351.752596 28.567094 \nL 351.752596 15.70087 \nL 314.602123 15.70087 \nL 314.602123 28.567094 \n\" clip-path=\"url(#p8ded18c827)\" style=\"fill: #230c4c\"/>\n    <path d=\"M 17.39834 15.70087 \nL 54.548812 15.70087 \nL 54.548812 2.834646 \nL 17.39834 2.834646 \nL 17.39834 15.70087 \n\" clip-path=\"url(#p8ded18c827)\" style=\"fill: #982766\"/>\n    <path d=\"M 54.548812 15.70087 \nL 91.699285 15.70087 \nL 91.699285 2.834646 \nL 54.548812 2.834646 \nL 54.548812 15.70087 \n\" clip-path=\"url(#p8ded18c827)\" style=\"fill: #400a67\"/>\n    <path d=\"M 91.699285 15.70087 \nL 128.849758 15.70087 \nL 128.849758 2.834646 \nL 91.699285 2.834646 \nL 91.699285 15.70087 \n\" clip-path=\"url(#p8ded18c827)\" style=\"fill: #10092d\"/>\n    <path d=\"M 128.849758 15.70087 \nL 166.000231 15.70087 \nL 166.000231 2.834646 \nL 128.849758 2.834646 \nL 128.849758 15.70087 \n\" clip-path=\"url(#p8ded18c827)\" style=\"fill: #180c3c\"/>\n    <path d=\"M 166.000231 15.70087 \nL 203.150704 15.70087 \nL 203.150704 2.834646 \nL 166.000231 2.834646 \nL 166.000231 15.70087 \n\" clip-path=\"url(#p8ded18c827)\" style=\"fill: #380962\"/>\n    <path d=\"M 203.150704 15.70087 \nL 240.301177 15.70087 \nL 240.301177 2.834646 \nL 203.150704 2.834646 \nL 203.150704 15.70087 \n\" clip-path=\"url(#p8ded18c827)\" style=\"fill: #2f0a5b\"/>\n    <path d=\"M 240.301177 15.70087 \nL 277.45165 15.70087 \nL 277.45165 2.834646 \nL 240.301177 2.834646 \nL 240.301177 15.70087 \n\" clip-path=\"url(#p8ded18c827)\" style=\"fill: #120a32\"/>\n    <path d=\"M 277.45165 15.70087 \nL 314.602123 15.70087 \nL 314.602123 2.834646 \nL 277.45165 2.834646 \nL 277.45165 15.70087 \n\" clip-path=\"url(#p8ded18c827)\" style=\"fill: #290b55\"/>\n    <path d=\"M 314.602123 15.70087 \nL 351.752596 15.70087 \nL 351.752596 2.834646 \nL 314.602123 2.834646 \nL 314.602123 15.70087 \n\" clip-path=\"url(#p8ded18c827)\" style=\"fill: #230c4c\"/>\n   </g>\n   <g id=\"patch_3\">\n    <path d=\"M 17.39834 273.025354 \nL 17.39834 2.834646 \n\" style=\"fill: none; stroke: #000000; stroke-linejoin: miter; stroke-linecap: square\"/>\n   </g>\n   <g id=\"patch_4\">\n    <path d=\"M 17.39834 273.025354 \nL 351.752596 273.025354 \n\" style=\"fill: none; stroke: #000000; stroke-linejoin: miter; stroke-linecap: square\"/>\n   </g>\n  </g>\n  <g id=\"axes_2\">\n   <g id=\"patch_5\">\n    <path d=\"M 360.111453 273.025354 \nL 376.829165 273.025354 \nL 376.829165 2.834646 \nL 360.111453 2.834646 \nz\n\" style=\"fill: #ffffff\"/>\n   </g>\n   <g id=\"patch_6\">\n    <path clip-path=\"url(#pa7adb5e2b0)\" style=\"fill: #ffffff; stroke: #ffffff; stroke-width: 0.01; stroke-linejoin: miter\"/>\n   </g>\n   <image xlink:href=\"data:image/png;base64,\niVBORw0KGgoAAAANSUhEUgAAABcAAAF3CAYAAABOqdBOAAACTUlEQVR4nO2dwW3EMBADV8qm/47jFGDecw4YgCyAMEZcSrYP5zOzz0DaM4fynos5z8zO4a58yYtnsRzQf+dYsZD+KHM4LeCCwszPD2YunlByQYslip5QLuctrg/mo+0WEssVp6VD9NZe6xCpmRfLW3ubliC0csXbHIpFvM2RQ+TFcp/e+7/lHSJ0QWnm4ENLcxRBLE1LNPc++WfTosVCLuhe8G2LOi2czBNKvpsjL51+DFUsbxVL1F6OirtbQHPQu5WbRXcLaN4oJrFYGsVoTjKnb1tAcy8W9s7Ci6WVG9TKjYIrl/N2Tyj2a+VO6Cdzzts9oVwUzVi83QIuqLlySfMD9rkYS7e5JPh83igm82LJ5los8CMRLRaycr1H6O5ESTAWNoreCQXNxcVF3raI7+bY4rKmRVtc4rOiGIs1LeptDu3zYgnmxZLNtUOkLa5iiRIPUbvl++Zl/nXzFleUOS3XiuWeP868afm6OYwFzLl6J5IOkbi4OqFJ7ISSOVdj0aal3RIE97kYC5iWEWORpsVcXCSWudptrn0ehC5ohyibd4iyeYcomXuHiDy3dEKjehCNgifUi6VpCaK7xYqFtFcPEWkOXrs4LQP+pHjBv5zHmZMfnALNzVi0322B0+LFAv4vtHmIUCxNSzB/WObWbys0ikl0FJuWL5vTWMAvcTziQxGIxVu53YmS0FaEJ1TLvFiSiiVq5y5pbsXyFEvQPgfFwpmLh4iMIv3kX5oWcRQPy/wXMzdjAc3pN7kgFpK5OC1XjIX8wq8WywWPc/9XrHOK+y9ytQAAAABJRU5ErkJggg==\" id=\"image9ace89f889\" transform=\"scale(1 -1)translate(0 -270)\" x=\"360\" y=\"-2.88\" width=\"16.56\" height=\"270\"/>\n   <g id=\"matplotlib.axis_3\">\n    <g id=\"ytick_5\">\n     <g id=\"line2d_17\">\n      <defs>\n       <path id=\"m9ef843fd1f\" d=\"M 0 0 \nL -2.5 0 \n\" style=\"stroke: #000000; stroke-width: 0.5\"/>\n      </defs>\n      <g>\n       <use xlink:href=\"#m9ef843fd1f\" x=\"376.829165\" y=\"264.991515\" style=\"stroke: #000000; stroke-width: 0.5\"/>\n      </g>\n     </g>\n     <g id=\"text_9\">\n      <!-- $0.20$ -->\n      <g transform=\"translate(380.329165 268.03089)scale(0.08 -0.08)\">\n       <defs>\n        <path id=\"DejaVuSans-2e\" d=\"M 684 794 \nL 1344 794 \nL 1344 0 \nL 684 0 \nL 684 794 \nz\n\" transform=\"scale(0.015625)\"/>\n       </defs>\n       <use xlink:href=\"#DejaVuSans-30\" transform=\"translate(0 0.78125)\"/>\n       <use xlink:href=\"#DejaVuSans-2e\" transform=\"translate(63.623047 0.78125)\"/>\n       <use xlink:href=\"#DejaVuSans-32\" transform=\"translate(89.910156 0.78125)\"/>\n       <use xlink:href=\"#DejaVuSans-30\" transform=\"translate(153.533203 0.78125)\"/>\n      </g>\n     </g>\n    </g>\n    <g id=\"ytick_6\">\n     <g id=\"line2d_18\">\n      <g>\n       <use xlink:href=\"#m9ef843fd1f\" x=\"376.829165\" y=\"227.359319\" style=\"stroke: #000000; stroke-width: 0.5\"/>\n      </g>\n     </g>\n     <g id=\"text_10\">\n      <!-- $0.22$ -->\n      <g transform=\"translate(380.329165 230.398694)scale(0.08 -0.08)\">\n       <use xlink:href=\"#DejaVuSans-30\" transform=\"translate(0 0.78125)\"/>\n       <use xlink:href=\"#DejaVuSans-2e\" transform=\"translate(63.623047 0.78125)\"/>\n       <use xlink:href=\"#DejaVuSans-32\" transform=\"translate(89.910156 0.78125)\"/>\n       <use xlink:href=\"#DejaVuSans-32\" transform=\"translate(153.533203 0.78125)\"/>\n      </g>\n     </g>\n    </g>\n    <g id=\"ytick_7\">\n     <g id=\"line2d_19\">\n      <g>\n       <use xlink:href=\"#m9ef843fd1f\" x=\"376.829165\" y=\"189.727123\" style=\"stroke: #000000; stroke-width: 0.5\"/>\n      </g>\n     </g>\n     <g id=\"text_11\">\n      <!-- $0.24$ -->\n      <g transform=\"translate(380.329165 192.766498)scale(0.08 -0.08)\">\n       <use xlink:href=\"#DejaVuSans-30\" transform=\"translate(0 0.78125)\"/>\n       <use xlink:href=\"#DejaVuSans-2e\" transform=\"translate(63.623047 0.78125)\"/>\n       <use xlink:href=\"#DejaVuSans-32\" transform=\"translate(89.910156 0.78125)\"/>\n       <use xlink:href=\"#DejaVuSans-34\" transform=\"translate(153.533203 0.78125)\"/>\n      </g>\n     </g>\n    </g>\n    <g id=\"ytick_8\">\n     <g id=\"line2d_20\">\n      <g>\n       <use xlink:href=\"#m9ef843fd1f\" x=\"376.829165\" y=\"152.094928\" style=\"stroke: #000000; stroke-width: 0.5\"/>\n      </g>\n     </g>\n     <g id=\"text_12\">\n      <!-- $0.26$ -->\n      <g transform=\"translate(380.329165 155.134303)scale(0.08 -0.08)\">\n       <use xlink:href=\"#DejaVuSans-30\" transform=\"translate(0 0.78125)\"/>\n       <use xlink:href=\"#DejaVuSans-2e\" transform=\"translate(63.623047 0.78125)\"/>\n       <use xlink:href=\"#DejaVuSans-32\" transform=\"translate(89.910156 0.78125)\"/>\n       <use xlink:href=\"#DejaVuSans-36\" transform=\"translate(153.533203 0.78125)\"/>\n      </g>\n     </g>\n    </g>\n    <g id=\"ytick_9\">\n     <g id=\"line2d_21\">\n      <g>\n       <use xlink:href=\"#m9ef843fd1f\" x=\"376.829165\" y=\"114.462732\" style=\"stroke: #000000; stroke-width: 0.5\"/>\n      </g>\n     </g>\n     <g id=\"text_13\">\n      <!-- $0.28$ -->\n      <g transform=\"translate(380.329165 117.502107)scale(0.08 -0.08)\">\n       <use xlink:href=\"#DejaVuSans-30\" transform=\"translate(0 0.78125)\"/>\n       <use xlink:href=\"#DejaVuSans-2e\" transform=\"translate(63.623047 0.78125)\"/>\n       <use xlink:href=\"#DejaVuSans-32\" transform=\"translate(89.910156 0.78125)\"/>\n       <use xlink:href=\"#DejaVuSans-38\" transform=\"translate(153.533203 0.78125)\"/>\n      </g>\n     </g>\n    </g>\n    <g id=\"ytick_10\">\n     <g id=\"line2d_22\">\n      <g>\n       <use xlink:href=\"#m9ef843fd1f\" x=\"376.829165\" y=\"76.830536\" style=\"stroke: #000000; stroke-width: 0.5\"/>\n      </g>\n     </g>\n     <g id=\"text_14\">\n      <!-- $0.30$ -->\n      <g transform=\"translate(380.329165 79.869911)scale(0.08 -0.08)\">\n       <defs>\n        <path id=\"DejaVuSans-33\" d=\"M 2597 2516 \nQ 3050 2419 3304 2112 \nQ 3559 1806 3559 1356 \nQ 3559 666 3084 287 \nQ 2609 -91 1734 -91 \nQ 1441 -91 1130 -33 \nQ 819 25 488 141 \nL 488 750 \nQ 750 597 1062 519 \nQ 1375 441 1716 441 \nQ 2309 441 2620 675 \nQ 2931 909 2931 1356 \nQ 2931 1769 2642 2001 \nQ 2353 2234 1838 2234 \nL 1294 2234 \nL 1294 2753 \nL 1863 2753 \nQ 2328 2753 2575 2939 \nQ 2822 3125 2822 3475 \nQ 2822 3834 2567 4026 \nQ 2313 4219 1838 4219 \nQ 1578 4219 1281 4162 \nQ 984 4106 628 3988 \nL 628 4550 \nQ 988 4650 1302 4700 \nQ 1616 4750 1894 4750 \nQ 2613 4750 3031 4423 \nQ 3450 4097 3450 3541 \nQ 3450 3153 3228 2886 \nQ 3006 2619 2597 2516 \nz\n\" transform=\"scale(0.015625)\"/>\n       </defs>\n       <use xlink:href=\"#DejaVuSans-30\" transform=\"translate(0 0.78125)\"/>\n       <use xlink:href=\"#DejaVuSans-2e\" transform=\"translate(63.623047 0.78125)\"/>\n       <use xlink:href=\"#DejaVuSans-33\" transform=\"translate(95.410156 0.78125)\"/>\n       <use xlink:href=\"#DejaVuSans-30\" transform=\"translate(159.033203 0.78125)\"/>\n      </g>\n     </g>\n    </g>\n    <g id=\"ytick_11\">\n     <g id=\"line2d_23\">\n      <g>\n       <use xlink:href=\"#m9ef843fd1f\" x=\"376.829165\" y=\"39.19834\" style=\"stroke: #000000; stroke-width: 0.5\"/>\n      </g>\n     </g>\n     <g id=\"text_15\">\n      <!-- $0.32$ -->\n      <g transform=\"translate(380.329165 42.237715)scale(0.08 -0.08)\">\n       <use xlink:href=\"#DejaVuSans-30\" transform=\"translate(0 0.78125)\"/>\n       <use xlink:href=\"#DejaVuSans-2e\" transform=\"translate(63.623047 0.78125)\"/>\n       <use xlink:href=\"#DejaVuSans-33\" transform=\"translate(95.410156 0.78125)\"/>\n       <use xlink:href=\"#DejaVuSans-32\" transform=\"translate(159.033203 0.78125)\"/>\n      </g>\n     </g>\n    </g>\n   </g>\n   <g id=\"LineCollection_1\"/>\n   <g id=\"patch_7\">\n    <path d=\"M 360.111453 273.025354 \nL 368.470309 273.025354 \nL 376.829165 273.025354 \nL 376.829165 2.834646 \nL 368.470309 2.834646 \nL 360.111453 2.834646 \nL 360.111453 273.025354 \nz\n\" style=\"fill: none; stroke: #000000; stroke-linejoin: miter; stroke-linecap: square\"/>\n   </g>\n  </g>\n </g>\n <defs>\n  <clipPath id=\"p8ded18c827\">\n   <rect x=\"17.39834\" y=\"2.834646\" width=\"334.354257\" height=\"270.190709\"/>\n  </clipPath>\n  <clipPath id=\"pa7adb5e2b0\">\n   <rect x=\"360.111453\" y=\"2.834646\" width=\"16.717713\" height=\"270.190709\"/>\n  </clipPath>\n </defs>\n</svg>\n",
      "text/html": [
       "<img src=\"data:image/png;base64,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\" />"
      ]
     },
     "metadata": {},
     "output_type": "display_data"
    }
   ],
   "source": [
    "heatmap(errors)"
   ]
  },
  {
   "cell_type": "code",
   "execution_count": 78,
   "metadata": {},
   "outputs": [
    {
     "data": {
      "text/plain": [
       "(5, 8)"
      ]
     },
     "metadata": {},
     "output_type": "display_data"
    }
   ],
   "source": [
    "best_d, best_ac = Tuple(argmin(errors)) # 5, 8"
   ]
  },
  {
   "attachments": {},
   "cell_type": "markdown",
   "metadata": {},
   "source": [
    "The optimal hyperparameters according to grid search are \n",
    "`depth = 5` and `attribute_count = 8`.\n",
    "Now, we can learn all decision tree using these hyperparameters with complete\n",
    "training dataset, then classify testing dataset and save results into file."
   ]
  },
  {
   "cell_type": "code",
   "execution_count": 92,
   "metadata": {},
   "outputs": [],
   "source": [
    "dt = DecisionTree()\n",
    "learn!(dt, X, Y; depth=best_d, attribute_count=best_ac)"
   ]
  },
  {
   "cell_type": "code",
   "execution_count": 93,
   "metadata": {},
   "outputs": [
    {
     "data": {
      "text/plain": [
       "418-element Vector{Int64}:\n",
       " 0\n",
       " 0\n",
       " 0\n",
       " 0\n",
       " 1\n",
       " 0\n",
       " 1\n",
       " 0\n",
       " 1\n",
       " 0\n",
       " ⋮\n",
       " 0\n",
       " 1\n",
       " 1\n",
       " 1\n",
       " 0\n",
       " 1\n",
       " 0\n",
       " 0\n",
       " 0"
      ]
     },
     "metadata": {},
     "output_type": "display_data"
    }
   ],
   "source": [
    "Y_TEST = evaluate(dt, X_TEST)"
   ]
  },
  {
   "cell_type": "code",
   "execution_count": 94,
   "metadata": {},
   "outputs": [
    {
     "data": {
      "text/plain": [
       "\"../assets/result_dt.csv\""
      ]
     },
     "metadata": {},
     "output_type": "display_data"
    }
   ],
   "source": [
    "passenger_id = collect(892:892+418-1)\n",
    "df = DataFrame(PassengerId=passenger_id, Survived=Y_TEST)\n",
    "CSV.write(\"../assets/result_dt.csv\", df)"
   ]
  },
  {
   "attachments": {},
   "cell_type": "markdown",
   "metadata": {},
   "source": [
    "#### Kaggle score: $0.76315$\n",
    "\n",
    "*Which corresponds to test error rate of $0.23685$.*"
   ]
  },
  {
   "attachments": {},
   "cell_type": "markdown",
   "metadata": {},
   "source": [
    "## Random forest"
   ]
  },
  {
   "cell_type": "code",
   "execution_count": null,
   "metadata": {},
   "outputs": [],
   "source": []
  }
 ],
 "metadata": {
  "kernelspec": {
   "display_name": "Julia 1.8.1",
   "language": "julia",
   "name": "julia-1.8"
  },
  "language_info": {
   "file_extension": ".jl",
   "mimetype": "application/julia",
   "name": "julia",
   "version": "1.8.1"
  },
  "orig_nbformat": 4
 },
 "nbformat": 4,
 "nbformat_minor": 2
}
